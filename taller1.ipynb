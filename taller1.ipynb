{
    "cells": [
        {
            "cell_type": "code",
            "execution_count": null,
            "metadata": {},
            "outputs": [],
            "source": "# Condiciones\n\n## Ejercicio 1.\nDados los dos siguientes fragmentos de c\u00f3digo tesss:\n\n```\nx = 0\nif x >= 0:\n    x=x+1\nelif x >= 1:\n    x=x+2\nprint(\"x =\", x)\n```\n\n```\nx = 0\nif x >= 0:\n    x=x+1\nif x >= 1:\n    x=x+2\nprint(\"x =\", x)\n```\n\n \u00bfCu\u00e1l es el valor final de la variable x en cada caso?"
        },
        {
            "cell_type": "code",
            "execution_count": 13,
            "metadata": {},
            "outputs": [
                {
                    "name": "stdout",
                    "output_type": "stream",
                    "text": "x = 1\n"
                }
            ],
            "source": "x = 0\nif x >= 0:\n    x=x+1\nelif x >= 1:\n    x=x+2\nprint(\"x =\", x)"
        },
        {
            "cell_type": "code",
            "execution_count": 10,
            "metadata": {},
            "outputs": [
                {
                    "name": "stdout",
                    "output_type": "stream",
                    "text": "x = 3\n"
                }
            ],
            "source": "x = 0\nif x >= 0:\n    x=x+1\nif x >= 1:\n    x=x+2\nprint(\"x =\", x)"
        },
        {
            "cell_type": "markdown",
            "metadata": {},
            "source": "## Ejercicio 2.\n\nEscribir un programa que lea tres n\u00fameros enteros e indique si est\u00e1n o no en orden ascendente."
        },
        {
            "cell_type": "code",
            "execution_count": null,
            "metadata": {},
            "outputs": [],
            "source": "# Pedir un primero n\u00famero\nnum1 = int(input(\"INTRODUCE EL PRIMER N\u00daMERO: \"))\n\n# Pedir un segundo n\u00famero\nnum2 = int(input(\"INTRODUCE EL SEGUNDO N\u00daMERO: \"))\n\n# Pedir un tercer n\u00famero\nnum3 = int(input(\"INTRODUCE EL TERCER N\u00daMERO: \"))\n\n# Si numero1 es menor o igual que numero2 y numero2 es menor o igual que numero3\n# entonces mostrar que est\u00e1n en orden ascendente\nif num1 <= num2 and num2 <= num3:\n    print (\"ESTAN ORDENADOS EN SENTIDO ASCENDENTE\")\nelse:\n    print (\"NO EST\u00c1N ORDENADOS EN SENTIDO ASCENDENTE\")"
        },
        {
            "cell_type": "markdown",
            "metadata": {},
            "source": "## Ejercicio 3.\n\nEscribir un programa que lea cinco n\u00fameros enteros e indique cu\u00e1l es el mayor de los cinco."
        },
        {
            "cell_type": "code",
            "execution_count": null,
            "metadata": {},
            "outputs": [],
            "source": "\n# Pedir numeros\nnum1 = int(input(\"Introduce el 1\u00ba n\u00famero: \"))\nnum2 = int(input(\"Introduce el 2\u00ba n\u00famero: \"))\nnum3 = int(input(\"Introduce el 3\u00ba n\u00famero: \"))\nnum4 = int(input(\"Introduce el 4\u00ba n\u00famero: \"))\nnum5 = int(input(\"Introduce el 5\u00ba n\u00famero: \"))\n\n# Almacenamos una variable para poder comparar con el m\u00e1ximno\nmaximo = num1\n\n# La estrategia es recorrer los n\u00fameros y si compararlos con el m\u00e1ximo.\n#  Si el n\u00famero es superior actualizamos el valor de m\u00e1ximo.\n\nif maximo < num2:\n    maximo = num2\nif maximo < num3:\n    maximo = num3\nif maximo < num4:\n    maximo = num4\nif maximo < num5:\n    maximo = num5\n\n# Mostrar el m\u00e1ximo de los cinco numeros\nprint (\"El valor m\u00e1ximo es: \", maximo)"
        },
        {
            "cell_type": "markdown",
            "metadata": {},
            "source": "## Ejercicio 4.\n\nEscribir un programa que resuelva cualquier ecuaci\u00f3n de 1er grado de la forma: `ax + b = 0`, donde `x` es la inc\u00f3gnita y `a` y `b` son dos n\u00fameros reales que leer\u00e1 el programa. Contemplar el caso en el que `a` es `0`."
        },
        {
            "cell_type": "code",
            "execution_count": null,
            "metadata": {},
            "outputs": [],
            "source": "from distutils.command.build_scripts import build_scripts\n\n\nprint(\"Resolvedor de ecuaci\u00f3nes ax+b=0 \\n\")\n\n# Introducir datos\na_str = input(\"Introducir el valor de a: \")\na = float(a_str)\n\nb_str = input(\"Introducir el valor de b: \")\nb = float(b_str)\n\n# Si a es distinto de 0 entonces se muestra el valor de x que es -b/a\n# Sino dependiendo de si b es distinto de 0 o no, la ecuaci\u00f3n no tiene\n# soluci\u00f3n o tiene infinitas soluciones\nif a != 0:\n    print(\"El valor de x es:\", -b/a)\nelse:\n    if b != 0:\n        print(\"La ecuaci\u00f3n no tiene soluci\u00f3n\")\n    else:\n        print(\"La ecuaci\u00f3n tiene infinitas soluciones\")"
        },
        {
            "cell_type": "markdown",
            "metadata": {},
            "source": "## Ejercicio 5.\n\nEscribir un programa que tome como dato un n\u00famero entero y presente al usuario una lista con tres opciones identificadas mediante una letra, tal y como se muestra en la tabla, para que \u00e9ste elija una de ellas. En funci\u00f3n de la opci\u00f3n elegida realizar el c\u00e1lculo correspondiente y mostrar el resultado obtenido."
        },
        {
            "cell_type": "markdown",
            "metadata": {},
            "source": "<table>\n  <tbody>\n    <tr>\n      <th>Selecci\u00f3n de la operaci\u00f3n a realizar</th>\n      <th align=\"center\">Ejemplo de salida del programa</th>\n    </tr>\n    <tr>\n      <td>\n        <b>ESCOGE UNA OPCI\u00d3N.</b> Calcular:\n        <ol type=\"a\">\n          <li>El cuadrado del n\u00famero</li>\n          <li>El cubo del n\u00famero</li>\n          <li>El doble del n\u00famero</li>\n        </ol>\n        <p>Opci\u00f3n?</p>\n      </td>\n      <td align=\"center\">\n        <p>Si el n\u00famero introducido es 4 y la opci\u00f3n elegida es la b), la salida del programa deber\u00eda ser:</p>\n        <h5>\"El cubo del n\u00famero 4 es 64\"</h5>\n      </td>\n    </tr>\n  </tbody>\n</table>"
        },
        {
            "cell_type": "code",
            "execution_count": null,
            "metadata": {},
            "outputs": [],
            "source": "# Introducir un n\u00famero\nnum_str = input(\"INTRODUCE UN N\u00daMERO: \")\nnum = int(num_str)\n\n# Mostrar men\u00fa\nprint (\"Menu\")\nprint (\"=====================================\")\nprint (\"a) Calcular el cuadrado del n\u00famero\")\nprint (\"b) Calcular el cubo del n\u00famero\")\nprint (\"c) Calcular el doble del n\u00famero\")\nprint (\"=====================================\")\n\n# Se pide la opci\u00f3n que quiere el usuario\nopcion=input(\"Selecciona una opci\u00f3n \")\n\n# La idea de utilizar los elif es que se verifique la condici\u00f3n en cascada\n\n\nif opcion == 'a':\n    print(\"El cuadrado de\", num, \"es\", num**2)\nelif opcion == 'b':\n    print(\"El cubo de\", num, \"es\", num**3)\nelif opcion == 'c':\n    print(\"El doble de\", num, \"es\", num*2)\nelse:\n    print (\"No existe opci\u00f3n\")"
        },
        {
            "cell_type": "markdown",
            "metadata": {},
            "source": "## Ejercicio 6.\n\nEscribir un programa que lea 4 notas (tipo `INT`) entre `0` y `100`, que calcule la media aritm\u00e9tica de esas cuatro puntuaciones y visualice la media obtenida as\u00ed como su car\u00e1cter asociado de acuerdo a la siguiente relaci\u00f3n:\n\n- A [90,100]\n- B [80,90)\n- C [70,80)\n- D [60,70)\n- E [0,60)"
        },
        {
            "cell_type": "code",
            "execution_count": null,
            "metadata": {},
            "outputs": [],
            "source": "# Pedir numeros\nnum1 = int(input(\"Introduce la 1\u00aa nota: \"))\nnum2 = int(input(\"Introduce la 2\u00aa nota: \"))\nnum3 = int(input(\"Introduce la 3\u00aa nota: \"))\nnum4 = int(input(\"Introduce la 4\u00aa nota: \"))\n\n# Calculamos la nota media\nnota_media = (num1 + num2 + num3 + num4)/4\n# Mostrar calificaci\u00f3n\n# Aqu\u00ed el orden de las comprobaciones importan importan\nif nota_media >= 90:\n    print(\"La nota media es\", num, \"y tu ranking es A \ud83e\udd47\")\nelif nota_media >= 80:\n    print(\"La nota media es\", num, \"y tu ranking es B \ud83e\udd48\")\nelif nota_media >= 70:\n    print(\"La nota media es\", num, \"y tu ranking es C \ud83e\udd49\")\nelif nota_media >= 60:\n    print(\"La nota media es\", num, \"y tu ranking es D \ud83d\ude17\")\nelse:\n    print(\"La nota media es\", num, \"y tu ranking es E \ud83e\udd76\")"
        },
        {
            "cell_type": "markdown",
            "metadata": {},
            "source": "## Ejercicio 7.\n\nEscribir un programa que lea un a\u00f1o y determine si es o no bisiesto. Informaci\u00f3n: Son a\u00f1os bisiestos aquellos que son divisibles por `4`, excepto aquellos divisibles por `100` que no sean divisibles por `400`.\n\n### Ejemplos:\n\n- 1984 es **BISIESTO** ya que es divisible por `4` y no divisible por `100`.\n- 2000 es **BISIESTO** ya que es divisible por `4`, por `100` y por `400`.\n- 1800 **NO es BISIESTO** ya que es divisible por `4`, por 100 y no por `400`.\n- 2011 **NO es BISIESTO** ya que no es divisible por `4`."
        },
        {
            "cell_type": "code",
            "execution_count": 4,
            "metadata": {},
            "outputs": [
                {
                    "name": "stdout",
                    "output_type": "stream",
                    "text": "NO BISIESTO\n"
                }
            ],
            "source": "# Pedir el a\u00f1o\nanio_str = input(\"INTRODUCE EL A\u00d1O: \")\nanio = int(anio_str)\n\nif anio % 4 != 0: #no divisible entre 4\n\tprint(\"No es bisiesto\")\nelif anio % 4 == 0 and anio % 100 != 0: #divisible entre 4 y no entre 100 o 400\n\tprint(\"Es bisiesto\")\nelif anio % 4 == 0 and anio % 100 == 0 and anio % 400 != 0: #divisible entre 4 y 10 y no entre 400\n\tprint(\"No es bisiesto\")\nelif anio % 4 == 0 and a\u00f1o % 100 == 0 and anio % 400 == 0: #divisible entre 4, 100 y 400\n\tprint(\"Es bisiesto\")\n\n'''\nSentencia alternativa para determinar si el a\u00f1o le\u00eddo es o no bisiesto\nif anio % 4 == 0:\n    if anio % 100 == 0 and anio % 400 != 0:\n        print(\"No es bisiesto\")\n    else:\n        print(\"Es bisiest\")\nelse:\n    print(\"No es bisiesto\")\n*/\n'''"
        },
        {
            "cell_type": "markdown",
            "metadata": {},
            "source": "## Ejercicio 8.\n\nModificar el programa anterior testsss para que adem\u00e1s lea el n\u00famero de un mes (`1` a `12`) y muestre el n\u00famero de d\u00edas de ese mes en funci\u00f3n del mes y del a\u00f1o introducidos. \n\nNota: Abril, Junio, Septimebre y Noviembre tienen 30 dias."
        },
        {
            "cell_type": "code",
            "execution_count": 8,
            "metadata": {},
            "outputs": [
                {
                    "name": "stdout",
                    "output_type": "stream",
                    "text": "El mes 2 del a\u00f1o 1984 tiene 29 dias\n"
                }
            ],
            "source": "# Pedir el a\u00f1o\nanio_str = input(\"INTRODUCE EL A\u00d1O: \")\nanio = int(anio_str)\n\n# Pedir el a\u00f1o\nmes_str = input(\"INTRODUCE EL A\u00d1O: \")\nmes = int(mes_str)\n\n# Comprobar si el a\u00f1o es bisiesto\nif anio % 4 != 0: #no divisible entre 4\n\tesBisiesto = False\nelif anio % 4 == 0 and anio % 100 != 0: #divisible entre 4 y no entre 100 o 400\n\tesBisiesto = True\nelif anio % 4 == 0 and anio % 100 == 0 and anio % 400 != 0: #divisible entre 4 y 10 y no entre 400\n\tesBisiesto = False\nelif anio % 4 == 0 and anio % 100 == 0 and anio % 400 == 0: #divisible entre 4, 100 y 400\n\tesBisiesto = True\n\n# Asignar dias del mes\nif mes == 2:\n    if esBisiesto:\n        dias = 29\n    else:\n        dias = 28\nelif mes == 4 or mes == 6 or mes == 9 or mes == 11:\n    dias = 30\nelse:\n    dias = 31\n\n# Imprimir el resultado por pantalla\nprint(\"El mes\", mes, \"del a\u00f1o\", anio, \"tiene\", dias, \"dias\")"
        }
    ],
    "metadata": {
        "kernelspec": {
            "display_name": "Python 3.10",
            "language": "python",
            "name": "python3"
        },
        "language_info": {
            "codemirror_mode": {
                "name": "ipython",
                "version": 3
            },
            "file_extension": ".py",
            "mimetype": "text/x-python",
            "name": "python",
            "nbconvert_exporter": "python",
            "pygments_lexer": "ipython3",
            "version": "3.10.13"
        },
        "vscode": {
            "interpreter": {
                "hash": "aee8b7b246df8f9039afb4144a1f6fd8d2ca17a180786b69acc140d282b71a49"
            }
        }
    },
    "nbformat": 4,
    "nbformat_minor": 2
}